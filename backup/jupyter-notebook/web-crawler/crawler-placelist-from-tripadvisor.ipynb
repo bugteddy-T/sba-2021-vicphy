{
 "cells": [
  {
   "cell_type": "markdown",
   "metadata": {},
   "source": [
    "# 트립어드바이저 장소 목록 확보 - 링크 목록에서\n",
    "\n",
    "\n"
   ]
  },
  {
   "cell_type": "code",
   "execution_count": 1,
   "metadata": {},
   "outputs": [],
   "source": [
    "from selenium import webdriver\n",
    "import time\n",
    "from bs4 import BeautifulSoup\n",
    "from tqdm import notebook  # for문 진행상황 확인"
   ]
  },
  {
   "cell_type": "code",
   "execution_count": 2,
   "metadata": {},
   "outputs": [],
   "source": [
    "# 초기값\n",
    "place_list = []\n",
    "link_list = []\n",
    "category_list = []\n",
    "interval_second = 3\n",
    "driver = webdriver.Chrome(\"./chromedriver\")  \n",
    "base_url = \"https://www.tripadvisor.co.kr\""
   ]
  },
  {
   "cell_type": "code",
   "execution_count": 3,
   "metadata": {},
   "outputs": [],
   "source": [
    "links =  ['https://www.tripadvisor.co.kr/Attractions-g294197-Activities-zft11295-Seoul.html',\n",
    "'https://www.tripadvisor.co.kr/Attractions-g294197-Activities-zft11309-Seoul.html',\n",
    " 'https://www.tripadvisor.co.kr/Attractions-g294197-Activities-zft11292-Seoul.html',\n",
    " 'https://www.tripadvisor.co.kr/Attractions-g294197-Activities-zft11306-Seoul.html',\n",
    "'https://www.tripadvisor.co.kr/Attractions-g294197-Activities-zft12169-Seoul.html',\n",
    " 'https://www.tripadvisor.co.kr/Attractions-g294197-Activities-zft12170-Seoul.html',\n",
    "'https://www.tripadvisor.co.kr/Attractions-g294197-Activities-zft12159-Seoul.html',\n",
    "'https://www.tripadvisor.co.kr/Attractions-g294197-Activities-zft12156-Seoul.html',\n",
    "'https://www.tripadvisor.co.kr/Attractions-g294197-Activities-zft11312-Seoul.html',\n",
    "'https://www.tripadvisor.co.kr/Attractions-g294197-Activities-zft12163-Seoul.html']"
   ]
  },
  {
   "cell_type": "code",
   "execution_count": 4,
   "metadata": {},
   "outputs": [],
   "source": [
    "def get_list(url):\n",
    "    print(url)\n",
    "    driver.get(url)   # 글 띄우기\n",
    "    time.sleep(interval_second)\n",
    "\n",
    "    # title 가져오기\n",
    "    title = driver.find_element_by_css_selector('#HEADING') \n",
    "    title = title.text\n",
    "    print(title)\n",
    "\n",
    "    # 마지막 페이지 얻기\n",
    "    paginations = driver.find_elements_by_css_selector('.pageNumbers a')\n",
    "    if len(paginations) > 1:\n",
    "        last_page = int(paginations[-1].get_attribute('innerHTML'))\n",
    "    else:\n",
    "        last_page = 1\n",
    "    print(last_page)\n",
    "    \n",
    "    print(\"page 1\")\n",
    "    get_data(url, title, driver) \n",
    "    \n",
    "#     for page in range(2, 3): # 테스트용 코드\n",
    "    for page in range(2, last_page + 1):\n",
    "        print(\"page \" + str(page))\n",
    "#         next_button = driver.find_element_by_css_selector('a.ui_button.nav.next.primary')\n",
    "        next_button = driver.find_element_by_link_text(\"다음\")\n",
    "        next_button.click()\n",
    "        time.sleep(interval_second)\n",
    "        get_data(url, title, driver)"
   ]
  },
  {
   "cell_type": "code",
   "execution_count": 5,
   "metadata": {},
   "outputs": [],
   "source": [
    "def get_data(url, title, driver):\n",
    "    \n",
    "    places = driver.find_elements_by_css_selector('h2') \n",
    "    \n",
    "    for place in places:\n",
    "        if \"서울의 날씨\" not in place.text:\n",
    "            print(place.text)\n",
    "            place_list.append(place.text)\n",
    "            category_list.append(title)\n",
    "\n",
    "            link = place.find_element_by_xpath('../..')\n",
    "            html = link.get_attribute('innerHTML')\n",
    "            soup = BeautifulSoup(html)\n",
    "            place_url = base_url + soup.findAll('a')[0].get('href')\n",
    "            link_list.append(place_url)\n",
    "        \n",
    "# get_data()\n"
   ]
  },
  {
   "cell_type": "code",
   "execution_count": 6,
   "metadata": {},
   "outputs": [
    {
     "data": {
      "application/vnd.jupyter.widget-view+json": {
       "model_id": "75765431adce4b09b839b5d127ca2ba7",
       "version_major": 2,
       "version_minor": 0
      },
      "text/plain": [
       "HBox(children=(HTML(value=''), FloatProgress(value=1.0, bar_style='info', layout=Layout(width='20px'), max=1.0…"
      ]
     },
     "metadata": {},
     "output_type": "display_data"
    },
    {
     "name": "stdout",
     "output_type": "stream",
     "text": [
      "\n"
     ]
    }
   ],
   "source": [
    "for link in notebook.tqdm(links):\n",
    "    get_list(link)"
   ]
  },
  {
   "cell_type": "code",
   "execution_count": 7,
   "metadata": {},
   "outputs": [
    {
     "data": {
      "text/html": [
       "<div>\n",
       "<style scoped>\n",
       "    .dataframe tbody tr th:only-of-type {\n",
       "        vertical-align: middle;\n",
       "    }\n",
       "\n",
       "    .dataframe tbody tr th {\n",
       "        vertical-align: top;\n",
       "    }\n",
       "\n",
       "    .dataframe thead th {\n",
       "        text-align: right;\n",
       "    }\n",
       "</style>\n",
       "<table border=\"1\" class=\"dataframe\">\n",
       "  <thead>\n",
       "    <tr style=\"text-align: right;\">\n",
       "      <th></th>\n",
       "      <th>category</th>\n",
       "      <th>place</th>\n",
       "      <th>url</th>\n",
       "    </tr>\n",
       "  </thead>\n",
       "  <tbody>\n",
       "  </tbody>\n",
       "</table>\n",
       "</div>"
      ],
      "text/plain": [
       "Empty DataFrame\n",
       "Columns: [category, place, url]\n",
       "Index: []"
      ]
     },
     "execution_count": 7,
     "metadata": {},
     "output_type": "execute_result"
    }
   ],
   "source": [
    "import pandas as pd\n",
    "tmp = pd.DataFrame({'category' : category_list, 'place' : place_list, 'url':  link_list})\n",
    "tmp     "
   ]
  },
  {
   "cell_type": "code",
   "execution_count": 19,
   "metadata": {},
   "outputs": [],
   "source": [
    "# 엑셀로 저장하기\n",
    "tmp.to_excel(\"places_zft.xlsx\")"
   ]
  },
  {
   "cell_type": "code",
   "execution_count": null,
   "metadata": {},
   "outputs": [],
   "source": []
  }
 ],
 "metadata": {
  "kernelspec": {
   "display_name": "Python 3",
   "language": "python",
   "name": "python3"
  },
  "language_info": {
   "codemirror_mode": {
    "name": "ipython",
    "version": 3
   },
   "file_extension": ".py",
   "mimetype": "text/x-python",
   "name": "python",
   "nbconvert_exporter": "python",
   "pygments_lexer": "ipython3",
   "version": "3.8.5"
  },
  "varInspector": {
   "cols": {
    "lenName": 16,
    "lenType": 16,
    "lenVar": 40
   },
   "kernels_config": {
    "python": {
     "delete_cmd_postfix": "",
     "delete_cmd_prefix": "del ",
     "library": "var_list.py",
     "varRefreshCmd": "print(var_dic_list())"
    },
    "r": {
     "delete_cmd_postfix": ") ",
     "delete_cmd_prefix": "rm(",
     "library": "var_list.r",
     "varRefreshCmd": "cat(var_dic_list()) "
    }
   },
   "types_to_exclude": [
    "module",
    "function",
    "builtin_function_or_method",
    "instance",
    "_Feature"
   ],
   "window_display": false
  }
 },
 "nbformat": 4,
 "nbformat_minor": 4
}
