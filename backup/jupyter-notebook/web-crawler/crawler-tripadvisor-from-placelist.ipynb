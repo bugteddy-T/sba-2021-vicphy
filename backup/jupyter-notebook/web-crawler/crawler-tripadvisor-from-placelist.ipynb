{
 "cells": [
  {
   "cell_type": "markdown",
   "metadata": {},
   "source": [
    "# 트립 어드바이저 데이터 수집\n",
    "\n"
   ]
  },
  {
   "cell_type": "code",
   "execution_count": 5,
   "metadata": {},
   "outputs": [],
   "source": [
    "from selenium import webdriver\n",
    "import time\n",
    "from pygrok import Grok\n",
    "import pandas as pd\n",
    "from ast import literal_eval \n",
    "from tqdm import notebook  # for문 진행상황 확인"
   ]
  },
  {
   "cell_type": "code",
   "execution_count": 6,
   "metadata": {},
   "outputs": [],
   "source": [
    "# 초기값\n",
    "data_list = []\n",
    "error_list = []\n",
    "\n",
    "driver = webdriver.Chrome(\"./chromedriver\")  "
   ]
  },
  {
   "cell_type": "code",
   "execution_count": 7,
   "metadata": {},
   "outputs": [],
   "source": [
    "def get_rating(rating_html):    \n",
    "    if \"bubble_50\" in rating_html:\n",
    "        rating = 5\n",
    "    elif \"bubble_40\" in rating_html:\n",
    "        rating = 4\n",
    "    elif \"bubble_30\" in rating_html:\n",
    "        rating = 3\n",
    "    elif \"bubble_20\" in rating_html:\n",
    "        rating = 2\n",
    "    elif \"bubble_10\" in rating_html:\n",
    "        rating = 1\n",
    "    return rating\n",
    "\n",
    "def get_date(date_text):\n",
    "    \n",
    "    print(date_text)\n",
    "    try:\n",
    "        if '어제' in date_text:\n",
    "            date = '2021/1'\n",
    "            return date\n",
    "        else:        \n",
    "            date_pattern = '%{YEAR:year}년 %{MONTHNUM:month}월'\n",
    "            pattern = Grok(date_pattern)\n",
    "            grok = pattern.match(date_text)\n",
    "\n",
    "            if grok is None:\n",
    "                date_pattern = '%{MONTHNUM:month}월'\n",
    "                pattern = Grok(date_pattern)\n",
    "                grok = pattern.match(date_text)        \n",
    "                grok['year'] = '2021'\n",
    "\n",
    "            date = grok['year'] + \"/\" + grok['month']\n",
    "            return date    \n",
    "    except:    \n",
    "        return None\n",
    "\n",
    "def get_data(page, url, place, category, driver):\n",
    "\n",
    "    # 사용자 id 수집\n",
    "    users = driver.find_elements_by_css_selector('._1r_My98y')  \n",
    "\n",
    "    # 별점 수집\n",
    "    ratings = driver.find_elements_by_css_selector('.nf9vGX55')\n",
    "    \n",
    "    # 리뷰 수집\n",
    "    review_titles = driver.find_elements_by_css_selector('.ocfR3SKN')\n",
    "    review_descs = driver.find_elements_by_css_selector('.IRsGHoPm')\n",
    "    \n",
    "    # 날짜 수집\n",
    "    dates = driver.find_elements_by_css_selector('._2fxQ4TOx')\n",
    "    \n",
    "    is_normal = False\n",
    "    \n",
    "    if len(users) == len(ratings) == len(review_titles) == len(review_descs) == len(dates):\n",
    "            is_normal = True\n",
    "    \n",
    "    if is_normal:\n",
    "        \n",
    "        for index in range(len(users)):\n",
    "                  \n",
    "            user_link = users[index].get_attribute('href')        \n",
    "            user_id = user_link.rsplit('/', 1)[-1]\n",
    "            \n",
    "            rating_score = get_rating(ratings[index].get_attribute('innerHTML'))\n",
    "            \n",
    "            review = review_titles[index].text + \"\\n\" + review_descs[index].text\n",
    "            \n",
    "            date = get_date(dates[index].text)\n",
    "            \n",
    "            tag = []\n",
    "            tag.append(category)\n",
    "            \n",
    "            data = {}\n",
    "            data['user_id'] = user_id\n",
    "            data['rating'] = rating_score\n",
    "            data['review'] = review\n",
    "            data['date'] = date\n",
    "            data['place'] = place\n",
    "            data['url'] = url\n",
    "            data['tag'] = tag\n",
    "            \n",
    "            print(data)\n",
    "            data_list.append(data)\n",
    "    \n",
    "    else:\n",
    "        print(\"수집 중 오류 발생 user id, ratings, review, dates 개수가 서로 다름\")\n",
    "        \n",
    "        error_data = {}\n",
    "        error_data['place'] = place\n",
    "        error_data['url'] = url\n",
    "        error_data['review_page'] = page\n",
    "        \n",
    "        print(error_data)\n",
    "        error_list.append(error_data)\n"
   ]
  },
  {
   "cell_type": "code",
   "execution_count": 8,
   "metadata": {},
   "outputs": [],
   "source": [
    "def get_data_from_url(url, place, category, driver):\n",
    "    \n",
    "    driver.get(url)\n",
    "    time.sleep(3)\n",
    "    paginations = driver.find_elements_by_css_selector('.ui_pagination a')\n",
    "    \n",
    "    if len(paginations) > 1:\n",
    "        last_page = int(paginations[-1].get_attribute('innerHTML'))\n",
    "    else:\n",
    "        last_page = 1\n",
    "    print('last_page ' + str(last_page))\n",
    "    \n",
    "    page = 1\n",
    "    print(\"page 1\")\n",
    "    get_data(page, url, place, category, driver) # 첫 페이지 수집하고 시작\n",
    "\n",
    "    for page in range(2, last_page + 1):\n",
    "        print(\"page \" + str(page))\n",
    "        next_button = driver.find_element_by_css_selector('.ui_button.nav.next.primary')\n",
    "        next_button.click()\n",
    "        time.sleep(3)\n",
    "        get_data(page, url, place, category, driver)"
   ]
  },
  {
   "cell_type": "code",
   "execution_count": 10,
   "metadata": {},
   "outputs": [
    {
     "data": {
      "application/vnd.jupyter.widget-view+json": {
       "model_id": "6fdfd45bd1c442a39ca116bb0f028b11",
       "version_major": 2,
       "version_minor": 0
      },
      "text/plain": [
       "HBox(children=(HTML(value=''), FloatProgress(value=1.0, bar_style='info', layout=Layout(width='20px'), max=1.0…"
      ]
     },
     "metadata": {},
     "output_type": "display_data"
    },
    {
     "name": "stdout",
     "output_type": "stream",
     "text": [
      "\n"
     ]
    }
   ],
   "source": [
    "# 파일 읽어오기\n",
    "places_data = pd.read_excel('./places.xlsx')\n",
    "categories = places_data['category']\n",
    "places = places_data['place']\n",
    "urls = places_data['url']\n",
    "\n",
    "# range(시작, 끝) 예) range(1000, 1500)\n",
    "for index in notebook.tqdm(range(len(urls))):\n",
    "    url = urls[index]\n",
    "    place = places[index]\n",
    "    print()\n",
    "    print(place)\n",
    "    category = categories[index]\n",
    "    get_data_from_url(url, place, category, driver)"
   ]
  },
  {
   "cell_type": "code",
   "execution_count": 11,
   "metadata": {
    "scrolled": true
   },
   "outputs": [
    {
     "name": "stdout",
     "output_type": "stream",
     "text": [
      "0\n",
      "0\n"
     ]
    }
   ],
   "source": [
    "print(len(data_list))\n",
    "print(len(error_list))"
   ]
  },
  {
   "cell_type": "code",
   "execution_count": 12,
   "metadata": {},
   "outputs": [
    {
     "data": {
      "text/html": [
       "<div>\n",
       "<style scoped>\n",
       "    .dataframe tbody tr th:only-of-type {\n",
       "        vertical-align: middle;\n",
       "    }\n",
       "\n",
       "    .dataframe tbody tr th {\n",
       "        vertical-align: top;\n",
       "    }\n",
       "\n",
       "    .dataframe thead th {\n",
       "        text-align: right;\n",
       "    }\n",
       "</style>\n",
       "<table border=\"1\" class=\"dataframe\">\n",
       "  <thead>\n",
       "    <tr style=\"text-align: right;\">\n",
       "      <th></th>\n",
       "    </tr>\n",
       "  </thead>\n",
       "  <tbody>\n",
       "  </tbody>\n",
       "</table>\n",
       "</div>"
      ],
      "text/plain": [
       "Empty DataFrame\n",
       "Columns: []\n",
       "Index: []"
      ]
     },
     "execution_count": 12,
     "metadata": {},
     "output_type": "execute_result"
    }
   ],
   "source": [
    "data_table = pd.DataFrame(data_list)\n",
    "data_table      \n"
   ]
  },
  {
   "cell_type": "code",
   "execution_count": 13,
   "metadata": {},
   "outputs": [
    {
     "data": {
      "text/html": [
       "<div>\n",
       "<style scoped>\n",
       "    .dataframe tbody tr th:only-of-type {\n",
       "        vertical-align: middle;\n",
       "    }\n",
       "\n",
       "    .dataframe tbody tr th {\n",
       "        vertical-align: top;\n",
       "    }\n",
       "\n",
       "    .dataframe thead th {\n",
       "        text-align: right;\n",
       "    }\n",
       "</style>\n",
       "<table border=\"1\" class=\"dataframe\">\n",
       "  <thead>\n",
       "    <tr style=\"text-align: right;\">\n",
       "      <th></th>\n",
       "    </tr>\n",
       "  </thead>\n",
       "  <tbody>\n",
       "  </tbody>\n",
       "</table>\n",
       "</div>"
      ],
      "text/plain": [
       "Empty DataFrame\n",
       "Columns: []\n",
       "Index: []"
      ]
     },
     "execution_count": 13,
     "metadata": {},
     "output_type": "execute_result"
    }
   ],
   "source": [
    "error_table = pd.DataFrame(error_list)\n",
    "error_table"
   ]
  },
  {
   "cell_type": "code",
   "execution_count": 9,
   "metadata": {},
   "outputs": [],
   "source": [
    "# 엑셀로 저장하기\n",
    "data_table.to_excel(\"tripadvisor.xlsx\")"
   ]
  },
  {
   "cell_type": "code",
   "execution_count": null,
   "metadata": {},
   "outputs": [],
   "source": []
  }
 ],
 "metadata": {
  "kernelspec": {
   "display_name": "Python 3",
   "language": "python",
   "name": "python3"
  },
  "language_info": {
   "codemirror_mode": {
    "name": "ipython",
    "version": 3
   },
   "file_extension": ".py",
   "mimetype": "text/x-python",
   "name": "python",
   "nbconvert_exporter": "python",
   "pygments_lexer": "ipython3",
   "version": "3.8.5"
  },
  "varInspector": {
   "cols": {
    "lenName": 16,
    "lenType": 16,
    "lenVar": 40
   },
   "kernels_config": {
    "python": {
     "delete_cmd_postfix": "",
     "delete_cmd_prefix": "del ",
     "library": "var_list.py",
     "varRefreshCmd": "print(var_dic_list())"
    },
    "r": {
     "delete_cmd_postfix": ") ",
     "delete_cmd_prefix": "rm(",
     "library": "var_list.r",
     "varRefreshCmd": "cat(var_dic_list()) "
    }
   },
   "types_to_exclude": [
    "module",
    "function",
    "builtin_function_or_method",
    "instance",
    "_Feature"
   ],
   "window_display": false
  }
 },
 "nbformat": 4,
 "nbformat_minor": 4
}
